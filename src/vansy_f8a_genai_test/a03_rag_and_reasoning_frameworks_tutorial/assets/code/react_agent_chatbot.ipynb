{
 "cells": [
  {
   "cell_type": "code",
   "execution_count": 31,
   "metadata": {},
   "outputs": [],
   "source": [
    "import os\n",
    "from dotenv import load_dotenv\n",
    "from langchain_neo4j import GraphCypherQAChain\n",
    "from langchain.prompts import PromptTemplate\n",
    "from langchain_community.graphs import Neo4jGraph\n",
    "from langchain_openai import ChatOpenAI\n",
    "from langchain.memory import ConversationBufferWindowMemory\n",
    "\n",
    "import vansy_f8a_genai_test.report_a03_rag_and_reasoning_frameworks_tutorial_prompt as prompt_hub"
   ]
  },
  {
   "cell_type": "code",
   "execution_count": 32,
   "metadata": {},
   "outputs": [
    {
     "data": {
      "text/plain": [
       "True"
      ]
     },
     "execution_count": 32,
     "metadata": {},
     "output_type": "execute_result"
    }
   ],
   "source": [
    "load_dotenv()"
   ]
  },
  {
   "cell_type": "code",
   "execution_count": 33,
   "metadata": {},
   "outputs": [
    {
     "name": "stderr",
     "output_type": "stream",
     "text": [
      "/var/folders/lg/yb401ry14w19vfs73n7y2rtw0000gn/T/ipykernel_74060/88119791.py:1: LangChainDeprecationWarning: Please see the migration guide at: https://python.langchain.com/docs/versions/migrating_memory/\n",
      "  memory = ConversationBufferWindowMemory(\n"
     ]
    }
   ],
   "source": [
    "memory = ConversationBufferWindowMemory(\n",
    "    k=5,\n",
    "    memory_key=\"chat_history\",\n",
    "    return_messages=True\n",
    ")"
   ]
  },
  {
   "cell_type": "markdown",
   "metadata": {},
   "source": [
    "### Hospital Cypher Chain"
   ]
  },
  {
   "cell_type": "code",
   "execution_count": 34,
   "metadata": {},
   "outputs": [],
   "source": [
    "graph = Neo4jGraph(\n",
    "    url=os.getenv(\"NEO4J_URI\"),\n",
    "    username=os.getenv(\"NEO4J_USERNAME\"),\n",
    "    password=os.getenv(\"NEO4J_PASSWORD\"),\n",
    ")\n",
    "\n",
    "graph.refresh_schema()"
   ]
  },
  {
   "cell_type": "code",
   "execution_count": 35,
   "metadata": {},
   "outputs": [],
   "source": [
    "cypher_generation_template = prompt_hub.CYPHER_GENERATION_TEMPLATE\n",
    "qa_generation_template = prompt_hub.QA_GENERATION_TEMPLATE"
   ]
  },
  {
   "cell_type": "code",
   "execution_count": 36,
   "metadata": {},
   "outputs": [],
   "source": [
    "cypher_generation_prompt = PromptTemplate(\n",
    "    input_variables=[\"schema\", \"question\"], template=cypher_generation_template\n",
    ")\n",
    "\n",
    "qa_generation_prompt = PromptTemplate(\n",
    "    input_variables=[\"context\", \"question\"], template=qa_generation_template\n",
    ")\n"
   ]
  },
  {
   "cell_type": "code",
   "execution_count": 37,
   "metadata": {},
   "outputs": [],
   "source": [
    "hospital_cypher_chain = GraphCypherQAChain.from_llm(\n",
    "    cypher_llm=ChatOpenAI(model=\"gpt-4o-mini\", temperature=0),\n",
    "    qa_llm=ChatOpenAI(model=\"gpt-4o-mini\", temperature=0),\n",
    "    graph=graph,\n",
    "    verbose=True,\n",
    "    qa_prompt=qa_generation_prompt,\n",
    "    cypher_prompt=cypher_generation_prompt,\n",
    "    validate_cypher=True,\n",
    "    top_k=100,\n",
    "    allow_dangerous_requests=True\n",
    ")"
   ]
  },
  {
   "cell_type": "markdown",
   "metadata": {},
   "source": [
    "### ReAct Agent"
   ]
  },
  {
   "cell_type": "code",
   "execution_count": 38,
   "metadata": {},
   "outputs": [],
   "source": [
    "from langchain.agents import AgentExecutor, create_react_agent, Tool\n",
    "from langchain_openai import ChatOpenAI\n",
    "from langchain import hub"
   ]
  },
  {
   "cell_type": "code",
   "execution_count": 39,
   "metadata": {},
   "outputs": [],
   "source": [
    "# 1. Wrap your chain in the Tool class\n",
    "hospital_tool = Tool(\n",
    "    name=\"HospitalGraphQA\",\n",
    "    # The 'func' is the chain's invoke method. We use a lambda to map the\n",
    "    # string input from the agent to the dictionary input the chain expects.\n",
    "    func=lambda q: hospital_cypher_chain.invoke({\"query\": q}),\n",
    "    description=\"\"\"Useful for answering questions about patients,\n",
    "        physicians, hospitals, insurance payers, patient review\n",
    "        statistics, and hospital visit details. Use the entire prompt as\n",
    "        input to the tool. For instance, if the prompt is 'How many visits\n",
    "        have there been?\", the input should be \"How many visits have\n",
    "        there been?'\"\"\"\n",
    ")"
   ]
  },
  {
   "cell_type": "code",
   "execution_count": 40,
   "metadata": {},
   "outputs": [],
   "source": [
    "# 2. Define the tools for agent can use\n",
    "tools = [hospital_tool]"
   ]
  },
  {
   "cell_type": "code",
   "execution_count": 41,
   "metadata": {},
   "outputs": [
    {
     "name": "stderr",
     "output_type": "stream",
     "text": [
      "/Users/vansy/Documents/Projects/vansy-f8a-genai-test/.venv/lib/python3.13/site-packages/langsmith/client.py:272: LangSmithMissingAPIKeyWarning: API key must be provided when using hosted LangSmith API\n",
      "  warnings.warn(\n"
     ]
    }
   ],
   "source": [
    "# 3. Set up the ReAct Agent\n",
    "# Pull the standard ReAct prompt\n",
    "prompt = hub.pull(\"hwchase17/react\")"
   ]
  },
  {
   "cell_type": "code",
   "execution_count": 42,
   "metadata": {},
   "outputs": [
    {
     "data": {
      "text/plain": [
       "{'name': None,\n",
       " 'input_variables': ['agent_scratchpad', 'input', 'tool_names', 'tools'],\n",
       " 'optional_variables': [],\n",
       " 'output_parser': None,\n",
       " 'partial_variables': {},\n",
       " 'metadata': {'lc_hub_owner': 'hwchase17',\n",
       "  'lc_hub_repo': 'react',\n",
       "  'lc_hub_commit_hash': 'd15fe3c426f1c4b3f37c9198853e4a86e20c425ca7f4752ec0c9b0e97ca7ea4d'},\n",
       " 'tags': None,\n",
       " 'template': 'Answer the following questions as best you can. You have access to the following tools:\\n\\n{tools}\\n\\nUse the following format:\\n\\nQuestion: the input question you must answer\\nThought: you should always think about what to do\\nAction: the action to take, should be one of [{tool_names}]\\nAction Input: the input to the action\\nObservation: the result of the action\\n... (this Thought/Action/Action Input/Observation can repeat N times)\\nThought: I now know the final answer\\nFinal Answer: the final answer to the original input question\\n\\nBegin!\\n\\nQuestion: {input}\\nThought:{agent_scratchpad}',\n",
       " 'template_format': 'f-string',\n",
       " 'validate_template': False,\n",
       " '_type': 'prompt'}"
      ]
     },
     "execution_count": 42,
     "metadata": {},
     "output_type": "execute_result"
    }
   ],
   "source": [
    "prompt.dict()"
   ]
  },
  {
   "cell_type": "code",
   "execution_count": 43,
   "metadata": {},
   "outputs": [],
   "source": [
    "# Choose the LLM for the agent to use\n",
    "# This can be the same or different from the models in your chain\n",
    "agent_llm = ChatOpenAI(model=\"gpt-4o-mini\", temperature=0)"
   ]
  },
  {
   "cell_type": "code",
   "execution_count": 26,
   "metadata": {},
   "outputs": [],
   "source": [
    "# Create the agent\n",
    "agent = create_react_agent(agent_llm, tools, prompt)"
   ]
  },
  {
   "cell_type": "code",
   "execution_count": 44,
   "metadata": {},
   "outputs": [],
   "source": [
    "# Create the agent executor to run the agent\n",
    "agent_executor = AgentExecutor(agent=agent, tools=tools, verbose=True, memory=memory)"
   ]
  },
  {
   "cell_type": "code",
   "execution_count": 45,
   "metadata": {},
   "outputs": [
    {
     "name": "stdout",
     "output_type": "stream",
     "text": [
      "Chat with the Hospital AI Agent! Type 'exit' to quit.\n",
      "User: How many patients were treated by Denise Chavez?\n",
      "\n",
      "\n",
      "\u001b[1m> Entering new AgentExecutor chain...\u001b[0m\n",
      "\u001b[32;1m\u001b[1;3mI need to find out how many patients were treated by Denise Chavez. This requires querying the relevant data about physicians and their patient statistics. \n",
      "Action: HospitalGraphQA\n",
      "Action Input: How many patients were treated by Denise Chavez?\u001b[0m\n",
      "\n",
      "\u001b[1m> Entering new GraphCypherQAChain chain...\u001b[0m\n",
      "Generated Cypher:\n",
      "\u001b[32;1m\u001b[1;3mMATCH (phy:Physician {name: 'Denise Chavez'})-[:TREATS]->(v:Visit)<-[:HAS]-(p:Patient)\n",
      "RETURN COUNT(p) AS patient_count\u001b[0m\n",
      "Full Context:\n",
      "\u001b[32;1m\u001b[1;3m[{'patient_count': 16}]\u001b[0m\n",
      "\n",
      "\u001b[1m> Finished chain.\u001b[0m\n",
      "\u001b[36;1m\u001b[1;3m{'query': 'How many patients were treated by Denise Chavez?', 'result': 'Denise Chavez treated a total of 16 patients.'}\u001b[0m\u001b[32;1m\u001b[1;3mI now know the final answer.  \n",
      "Final Answer: Denise Chavez treated a total of 16 patients.\u001b[0m\n",
      "\n",
      "\u001b[1m> Finished chain.\u001b[0m\n",
      "\n",
      "Agent: Denise Chavez treated a total of 16 patients.\n",
      "User: How many hospital in Florida?\n",
      "\n",
      "\n",
      "\u001b[1m> Entering new AgentExecutor chain...\u001b[0m\n",
      "\u001b[32;1m\u001b[1;3mI need to find out the number of hospitals located in Florida. \n",
      "Action: HospitalGraphQA \n",
      "Action Input: How many hospitals are there in Florida? \u001b[0m\n",
      "\n",
      "\u001b[1m> Entering new GraphCypherQAChain chain...\u001b[0m\n",
      "Generated Cypher:\n",
      "\u001b[32;1m\u001b[1;3mMATCH (h:Hospital)\n",
      "WHERE h.state_name = 'FL'\n",
      "RETURN COUNT(h) AS hospital_count\u001b[0m\n",
      "Full Context:\n",
      "\u001b[32;1m\u001b[1;3m[{'hospital_count': 7}]\u001b[0m\n",
      "\n",
      "\u001b[1m> Finished chain.\u001b[0m\n",
      "\u001b[36;1m\u001b[1;3m{'query': 'How many hospitals are there in Florida?', 'result': 'There are 7 hospitals in Florida.'}\u001b[0m\u001b[32;1m\u001b[1;3mI now know the final answer.  \n",
      "Final Answer: There are 7 hospitals in Florida.\u001b[0m\n",
      "\n",
      "\u001b[1m> Finished chain.\u001b[0m\n",
      "\n",
      "Agent: There are 7 hospitals in Florida.\n",
      "User: give me name of these hospital\n",
      "\n",
      "\n",
      "\u001b[1m> Entering new AgentExecutor chain...\u001b[0m\n",
      "\u001b[32;1m\u001b[1;3mI need to find the names of the hospitals being referred to in the question. However, the question does not specify which hospitals are being asked about. I will need to clarify or gather more information about the specific hospitals in question. \n",
      "\n",
      "Action: HospitalGraphQA\n",
      "Action Input: \"Please provide the names of the hospitals.\"\n",
      "\u001b[0m\n",
      "\n",
      "\u001b[1m> Entering new GraphCypherQAChain chain...\u001b[0m\n",
      "Generated Cypher:\n",
      "\u001b[32;1m\u001b[1;3mMATCH (h:Hospital)\n",
      "RETURN h.name AS hospital_name\u001b[0m\n",
      "Full Context:\n",
      "\u001b[32;1m\u001b[1;3m[{'hospital_name': 'Wallace-Hamilton'}, {'hospital_name': 'Burke, Griffin and Cooper'}, {'hospital_name': 'Walton LLC'}, {'hospital_name': 'Garcia Ltd'}, {'hospital_name': 'Jones, Brown and Murray'}, {'hospital_name': 'Boyd PLC'}, {'hospital_name': 'Wheeler, Bryant and Johns'}, {'hospital_name': 'Brown Inc'}, {'hospital_name': 'Smith, Edwards and Obrien'}, {'hospital_name': 'Brown-Golden'}, {'hospital_name': 'Little-Spencer'}, {'hospital_name': 'Rose Inc'}, {'hospital_name': 'Malone, Thompson and Mejia'}, {'hospital_name': 'Mcneil-Ali'}, {'hospital_name': 'Jones, Taylor and Garcia'}, {'hospital_name': 'Richardson-Powell'}, {'hospital_name': 'Castaneda-Hardy'}, {'hospital_name': 'Burch-White'}, {'hospital_name': 'Cunningham and Sons'}, {'hospital_name': 'Bell, Mcknight and Willis'}, {'hospital_name': 'Pugh-Rogers'}, {'hospital_name': 'Rush, Owens and Johnson'}, {'hospital_name': 'Pearson LLC'}, {'hospital_name': 'Taylor and Sons'}, {'hospital_name': 'Schultz-Powers'}, {'hospital_name': 'Jordan Inc'}, {'hospital_name': 'Lewis-Nelson'}, {'hospital_name': 'Shea LLC'}, {'hospital_name': 'Huynh PLC'}, {'hospital_name': 'Vaughn PLC'}]\u001b[0m\n",
      "\n",
      "\u001b[1m> Finished chain.\u001b[0m\n",
      "\u001b[36;1m\u001b[1;3m{'query': 'Please provide the names of the hospitals.\"\\n', 'result': 'Here are the names of the hospitals:\\n\\n1. Wallace-Hamilton\\n2. Burke, Griffin and Cooper\\n3. Walton LLC\\n4. Garcia Ltd\\n5. Jones, Brown and Murray\\n6. Boyd PLC\\n7. Wheeler, Bryant and Johns\\n8. Brown Inc\\n9. Smith, Edwards and Obrien\\n10. Brown-Golden\\n11. Little-Spencer\\n12. Rose Inc\\n13. Malone, Thompson and Mejia\\n14. Mcneil-Ali\\n15. Jones, Taylor and Garcia\\n16. Richardson-Powell\\n17. Castaneda-Hardy\\n18. Burch-White\\n19. Cunningham and Sons\\n20. Bell, Mcknight and Willis\\n21. Pugh-Rogers\\n22. Rush, Owens and Johnson\\n23. Pearson LLC\\n24. Taylor and Sons\\n25. Schultz-Powers\\n26. Jordan Inc\\n27. Lewis-Nelson\\n28. Shea LLC\\n29. Huynh PLC\\n30. Vaughn PLC\\n\\nIf you need more information about any specific hospital, feel free to ask!'}\u001b[0m\u001b[32;1m\u001b[1;3mI now have the names of the hospitals. \n",
      "\n",
      "Final Answer: Here are the names of the hospitals:\n",
      "1. Wallace-Hamilton\n",
      "2. Burke, Griffin and Cooper\n",
      "3. Walton LLC\n",
      "4. Garcia Ltd\n",
      "5. Jones, Brown and Murray\n",
      "6. Boyd PLC\n",
      "7. Wheeler, Bryant and Johns\n",
      "8. Brown Inc\n",
      "9. Smith, Edwards and Obrien\n",
      "10. Brown-Golden\n",
      "11. Little-Spencer\n",
      "12. Rose Inc\n",
      "13. Malone, Thompson and Mejia\n",
      "14. Mcneil-Ali\n",
      "15. Jones, Taylor and Garcia\n",
      "16. Richardson-Powell\n",
      "17. Castaneda-Hardy\n",
      "18. Burch-White\n",
      "19. Cunningham and Sons\n",
      "20. Bell, Mcknight and Willis\n",
      "21. Pugh-Rogers\n",
      "22. Rush, Owens and Johnson\n",
      "23. Pearson LLC\n",
      "24. Taylor and Sons\n",
      "25. Schultz-Powers\n",
      "26. Jordan Inc\n",
      "27. Lewis-Nelson\n",
      "28. Shea LLC\n",
      "29. Huynh PLC\n",
      "30. Vaughn PLC\u001b[0m\n",
      "\n",
      "\u001b[1m> Finished chain.\u001b[0m\n",
      "\n",
      "Agent: Here are the names of the hospitals:\n",
      "1. Wallace-Hamilton\n",
      "2. Burke, Griffin and Cooper\n",
      "3. Walton LLC\n",
      "4. Garcia Ltd\n",
      "5. Jones, Brown and Murray\n",
      "6. Boyd PLC\n",
      "7. Wheeler, Bryant and Johns\n",
      "8. Brown Inc\n",
      "9. Smith, Edwards and Obrien\n",
      "10. Brown-Golden\n",
      "11. Little-Spencer\n",
      "12. Rose Inc\n",
      "13. Malone, Thompson and Mejia\n",
      "14. Mcneil-Ali\n",
      "15. Jones, Taylor and Garcia\n",
      "16. Richardson-Powell\n",
      "17. Castaneda-Hardy\n",
      "18. Burch-White\n",
      "19. Cunningham and Sons\n",
      "20. Bell, Mcknight and Willis\n",
      "21. Pugh-Rogers\n",
      "22. Rush, Owens and Johnson\n",
      "23. Pearson LLC\n",
      "24. Taylor and Sons\n",
      "25. Schultz-Powers\n",
      "26. Jordan Inc\n",
      "27. Lewis-Nelson\n",
      "28. Shea LLC\n",
      "29. Huynh PLC\n",
      "30. Vaughn PLC\n",
      "User: exit\n",
      "\n",
      "Agent: Goodbye!\n"
     ]
    }
   ],
   "source": [
    "# --- 4. The Interactive Chat Loop ---\n",
    "print(\"Chat with the Hospital AI Agent! Type 'exit' to quit.\")\n",
    "while True:\n",
    "    try:\n",
    "        user_question = input(\"You: \")\n",
    "        print(f\"User: {user_question}\")\n",
    "        if user_question.lower() in [\"exit\", \"quit\"]:\n",
    "            print(\"\\nAgent: Goodbye!\")\n",
    "            break\n",
    "        \n",
    "        # Invoke the agent executor with the user's question\n",
    "        response = agent_executor.invoke({\"input\": user_question})\n",
    "        \n",
    "        # Print the final answer\n",
    "        print(f\"\\nAgent: {response['output']}\")\n",
    "\n",
    "    except Exception as e:\n",
    "        print(f\"An error occurred: {e}\")"
   ]
  },
  {
   "cell_type": "code",
   "execution_count": null,
   "metadata": {},
   "outputs": [],
   "source": []
  }
 ],
 "metadata": {
  "kernelspec": {
   "display_name": ".venv",
   "language": "python",
   "name": "python3"
  },
  "language_info": {
   "codemirror_mode": {
    "name": "ipython",
    "version": 3
   },
   "file_extension": ".py",
   "mimetype": "text/x-python",
   "name": "python",
   "nbconvert_exporter": "python",
   "pygments_lexer": "ipython3",
   "version": "3.13.3"
  }
 },
 "nbformat": 4,
 "nbformat_minor": 2
}
