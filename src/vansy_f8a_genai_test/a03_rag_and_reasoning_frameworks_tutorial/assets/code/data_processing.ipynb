{
 "cells": [
  {
   "cell_type": "code",
   "execution_count": 12,
   "metadata": {},
   "outputs": [
    {
     "data": {
      "text/plain": [
       "True"
      ]
     },
     "execution_count": 12,
     "metadata": {},
     "output_type": "execute_result"
    }
   ],
   "source": [
    "from dotenv import load_dotenv\n",
    "import pandas as pd\n",
    "load_dotenv()"
   ]
  },
  {
   "cell_type": "code",
   "execution_count": 2,
   "metadata": {},
   "outputs": [
    {
     "name": "stdout",
     "output_type": "stream",
     "text": [
      "Shape of 'patients': (9649, 5)\n",
      "Shape of 'physicians': (500, 6)\n",
      "Shape of 'visits': (9998, 15)\n",
      "Shape of 'hospitals': (30, 3)\n",
      "Shape of 'reviews_cleaned': (1005, 3)\n",
      "Shape of 'payers': (5, 2)\n"
     ]
    }
   ],
   "source": [
    "# Load your CSV files\n",
    "patients = pd.read_csv(\"../data/patients.csv\")\n",
    "print(f\"Shape of 'patients': {patients.shape}\")\n",
    "physicians = pd.read_csv(\"../data/physicians.csv\")\n",
    "print(f\"Shape of 'physicians': {physicians.shape}\")\n",
    "visits = pd.read_csv(\"../data/visits.csv\")\n",
    "print(f\"Shape of 'visits': {visits.shape}\")\n",
    "hospitals = pd.read_csv(\"../data/hospitals.csv\")\n",
    "print(f\"Shape of 'hospitals': {hospitals.shape}\")\n",
    "reviews = pd.read_csv(\"../data/reviews_cleaned.csv\")\n",
    "print(f\"Shape of 'reviews_cleaned': {reviews.shape}\")\n",
    "payers = pd.read_csv(\"../data/payers.csv\")\n",
    "print(f\"Shape of 'payers': {payers.shape}\")"
   ]
  },
  {
   "cell_type": "code",
   "execution_count": 4,
   "metadata": {},
   "outputs": [
    {
     "name": "stdout",
     "output_type": "stream",
     "text": [
      "patients: ['patient_name', 'patient_sex', 'patient_id', 'patient_dob', 'patient_blood_type']\n",
      "physicians: ['physician_name', 'physician_id', 'physician_dob', 'physician_grad_year', 'medical_school', 'salary']\n",
      "visits: ['patient_id', 'date_of_admission', 'billing_amount', 'room_number', 'admission_type', 'discharge_date', 'test_results', 'visit_id', 'physician_id', 'payer_id', 'hospital_id', 'chief_complaint', 'treatment_description', 'primary_diagnosis', 'visit_status']\n",
      "hospitals: ['hospital_id', 'hospital_name', 'hospital_state']\n",
      "reviews: ['review_id', 'visit_id', 'review']\n",
      "payers: ['payer_name', 'payer_id']\n"
     ]
    }
   ],
   "source": [
    "print(\"patients: \" + str(patients.columns.tolist()))\n",
    "print(\"physicians: \" + str(physicians.columns.tolist()))\n",
    "print(\"visits: \" + str(visits.columns.tolist()))\n",
    "print(\"hospitals: \" + str(hospitals.columns.tolist()))\n",
    "print(\"reviews: \" + str(reviews.columns.tolist()))\n",
    "print(\"payers: \" + str(payers.columns.tolist()))"
   ]
  },
  {
   "cell_type": "code",
   "execution_count": 14,
   "metadata": {},
   "outputs": [
    {
     "data": {
      "text/plain": [
       "(9998, 15)"
      ]
     },
     "execution_count": 14,
     "metadata": {},
     "output_type": "execute_result"
    }
   ],
   "source": [
    "visits.shape # focus on \"visits\" because it is the fact tables"
   ]
  },
  {
   "cell_type": "code",
   "execution_count": 17,
   "metadata": {},
   "outputs": [
    {
     "data": {
      "text/plain": [
       "patient_id                  0\n",
       "date_of_admission           0\n",
       "billing_amount              0\n",
       "room_number                 0\n",
       "admission_type              0\n",
       "discharge_date            500\n",
       "test_results                0\n",
       "visit_id                    0\n",
       "physician_id                0\n",
       "payer_id                    0\n",
       "hospital_id                 0\n",
       "chief_complaint          6998\n",
       "treatment_description    6998\n",
       "primary_diagnosis        6998\n",
       "visit_status                0\n",
       "dtype: int64"
      ]
     },
     "execution_count": 17,
     "metadata": {},
     "output_type": "execute_result"
    }
   ],
   "source": [
    "visits.isnull().sum()"
   ]
  },
  {
   "cell_type": "code",
   "execution_count": 20,
   "metadata": {},
   "outputs": [
    {
     "name": "stdout",
     "output_type": "stream",
     "text": [
      "(1005, 3)\n"
     ]
    },
    {
     "data": {
      "text/plain": [
       "review_id    0\n",
       "visit_id     0\n",
       "review       0\n",
       "dtype: int64"
      ]
     },
     "execution_count": 20,
     "metadata": {},
     "output_type": "execute_result"
    }
   ],
   "source": [
    "print(reviews.shape)\n",
    "reviews.isnull().sum()"
   ]
  },
  {
   "cell_type": "code",
   "execution_count": 22,
   "metadata": {},
   "outputs": [
    {
     "name": "stdout",
     "output_type": "stream",
     "text": [
      "Visit IDs in reviews but not in visits:\n",
      "[]\n",
      "\n",
      "Full rows in reviews with invalid visit_id:\n",
      "Empty DataFrame\n",
      "Columns: [review_id, visit_id, review]\n",
      "Index: []\n"
     ]
    }
   ],
   "source": [
    "# Find visit_ids in reviews that are not in visits\n",
    "invalid_visit_ids = reviews[~reviews['visit_id'].isin(visits['visit_id'])]\n",
    "\n",
    "# Show result\n",
    "print(\"Visit IDs in reviews but not in visits:\")\n",
    "print(invalid_visit_ids['visit_id'].unique())\n",
    "\n",
    "# Optional: show full rows from reviews\n",
    "print(\"\\nFull rows in reviews with invalid visit_id:\")\n",
    "print(invalid_visit_ids)"
   ]
  },
  {
   "cell_type": "code",
   "execution_count": 50,
   "metadata": {},
   "outputs": [],
   "source": [
    "# Merge data into one denormalized DataFrame\n",
    "# data = visits.merge(patients, on='patient_id', how='left') \\\n",
    "#     .merge(physicians, on='physician_id', how='left') \\\n",
    "#     .merge(hospitals, on='hospital_id', how='left') \\\n",
    "#     .merge(payers, on='payer_id', how='left') \\\n",
    "#     .merge(payers, on='payer_id', how='left') \\\n",
    "#     .merge(reviews, on='visit_id', how='left')\n",
    "# print(data.shape)\n",
    "# print(\"patient_name\" in data.columns.tolist())\n",
    "# data.head()"
   ]
  },
  {
   "cell_type": "code",
   "execution_count": 51,
   "metadata": {},
   "outputs": [],
   "source": [
    "# data.isnull().sum()"
   ]
  },
  {
   "cell_type": "code",
   "execution_count": 33,
   "metadata": {},
   "outputs": [],
   "source": [
    "def check_duplicated(data):    \n",
    "    duplicated_counts = {}\n",
    "    for col in data.columns:\n",
    "        duplicated = data[col].duplicated(keep=False)  # count all duplicates (not just first)\n",
    "        count = duplicated.sum()\n",
    "        if count > 0:\n",
    "            duplicated_counts[col] = count\n",
    "        else:\n",
    "            duplicated_counts[col] = 0\n",
    "\n",
    "    for col, count in duplicated_counts.items():\n",
    "        print(f\"Column '{col}' has {count} duplicated values\")"
   ]
  },
  {
   "cell_type": "code",
   "execution_count": 34,
   "metadata": {},
   "outputs": [
    {
     "name": "stdout",
     "output_type": "stream",
     "text": [
      "Column 'patient_id' has 1141 duplicated values\n",
      "Column 'date_of_admission' has 9949 duplicated values\n",
      "Column 'billing_amount' has 0 duplicated values\n",
      "Column 'room_number' has 9998 duplicated values\n",
      "Column 'admission_type' has 9998 duplicated values\n",
      "Column 'discharge_date' has 9931 duplicated values\n",
      "Column 'test_results' has 9998 duplicated values\n",
      "Column 'visit_id' has 0 duplicated values\n",
      "Column 'physician_id' has 9998 duplicated values\n",
      "Column 'payer_id' has 9998 duplicated values\n",
      "Column 'hospital_id' has 9998 duplicated values\n",
      "Column 'chief_complaint' has 9995 duplicated values\n",
      "Column 'treatment_description' has 9996 duplicated values\n",
      "Column 'primary_diagnosis' has 9997 duplicated values\n",
      "Column 'visit_status' has 9998 duplicated values\n"
     ]
    }
   ],
   "source": [
    "check_duplicated(visits)"
   ]
  },
  {
   "cell_type": "code",
   "execution_count": 42,
   "metadata": {},
   "outputs": [
    {
     "name": "stdout",
     "output_type": "stream",
     "text": [
      "Column 'review_id' has 0 duplicated values\n",
      "Column 'visit_id' has 99 duplicated values\n",
      "Column 'review' has 357 duplicated values\n"
     ]
    }
   ],
   "source": [
    "check_duplicated(reviews)"
   ]
  },
  {
   "cell_type": "code",
   "execution_count": 52,
   "metadata": {},
   "outputs": [],
   "source": [
    "# check_duplicated(data)"
   ]
  },
  {
   "cell_type": "code",
   "execution_count": 43,
   "metadata": {},
   "outputs": [
    {
     "name": "stdout",
     "output_type": "stream",
     "text": [
      "Number of duplicated visit_ids in reviews: 48\n",
      "Example duplicated visit_ids:\n",
      " visit_id\n",
      "9363    3\n",
      "6659    3\n",
      "9911    3\n",
      "6662    2\n",
      "7312    2\n",
      "Name: count, dtype: int64\n"
     ]
    }
   ],
   "source": [
    "duplicate_review_visits = reviews['visit_id'].value_counts()\n",
    "duplicates = duplicate_review_visits[duplicate_review_visits > 1]\n",
    "\n",
    "print(f\"Number of duplicated visit_ids in reviews: {len(duplicates)}\")\n",
    "print(\"Example duplicated visit_ids:\\n\", duplicates.head())"
   ]
  },
  {
   "cell_type": "code",
   "execution_count": 44,
   "metadata": {},
   "outputs": [
    {
     "data": {
      "text/html": [
       "<div>\n",
       "<style scoped>\n",
       "    .dataframe tbody tr th:only-of-type {\n",
       "        vertical-align: middle;\n",
       "    }\n",
       "\n",
       "    .dataframe tbody tr th {\n",
       "        vertical-align: top;\n",
       "    }\n",
       "\n",
       "    .dataframe thead th {\n",
       "        text-align: right;\n",
       "    }\n",
       "</style>\n",
       "<table border=\"1\" class=\"dataframe\">\n",
       "  <thead>\n",
       "    <tr style=\"text-align: right;\">\n",
       "      <th></th>\n",
       "      <th>review_id</th>\n",
       "      <th>visit_id</th>\n",
       "      <th>review</th>\n",
       "    </tr>\n",
       "  </thead>\n",
       "  <tbody>\n",
       "    <tr>\n",
       "      <th>541</th>\n",
       "      <td>300</td>\n",
       "      <td>9363</td>\n",
       "      <td>I had a mixed experience at the hospital. The ...</td>\n",
       "    </tr>\n",
       "    <tr>\n",
       "      <th>542</th>\n",
       "      <td>426</td>\n",
       "      <td>9363</td>\n",
       "      <td>The hospital staff was accommodating, but the ...</td>\n",
       "    </tr>\n",
       "    <tr>\n",
       "      <th>543</th>\n",
       "      <td>586</td>\n",
       "      <td>9363</td>\n",
       "      <td>I had a mixed experience at the hospital. The ...</td>\n",
       "    </tr>\n",
       "  </tbody>\n",
       "</table>\n",
       "</div>"
      ],
      "text/plain": [
       "     review_id  visit_id                                             review\n",
       "541        300      9363  I had a mixed experience at the hospital. The ...\n",
       "542        426      9363  The hospital staff was accommodating, but the ...\n",
       "543        586      9363  I had a mixed experience at the hospital. The ..."
      ]
     },
     "execution_count": 44,
     "metadata": {},
     "output_type": "execute_result"
    }
   ],
   "source": [
    "reviews[reviews['visit_id'] == 9363]"
   ]
  },
  {
   "cell_type": "code",
   "execution_count": 48,
   "metadata": {},
   "outputs": [
    {
     "name": "stdout",
     "output_type": "stream",
     "text": [
      "(954, 3)\n"
     ]
    },
    {
     "data": {
      "text/html": [
       "<div>\n",
       "<style scoped>\n",
       "    .dataframe tbody tr th:only-of-type {\n",
       "        vertical-align: middle;\n",
       "    }\n",
       "\n",
       "    .dataframe tbody tr th {\n",
       "        vertical-align: top;\n",
       "    }\n",
       "\n",
       "    .dataframe thead th {\n",
       "        text-align: right;\n",
       "    }\n",
       "</style>\n",
       "<table border=\"1\" class=\"dataframe\">\n",
       "  <thead>\n",
       "    <tr style=\"text-align: right;\">\n",
       "      <th></th>\n",
       "      <th>visit_id</th>\n",
       "      <th>review_id</th>\n",
       "      <th>review</th>\n",
       "    </tr>\n",
       "  </thead>\n",
       "  <tbody>\n",
       "    <tr>\n",
       "      <th>0</th>\n",
       "      <td>4</td>\n",
       "      <td>377</td>\n",
       "      <td>I am grateful for the attentive care I receive...</td>\n",
       "    </tr>\n",
       "    <tr>\n",
       "      <th>1</th>\n",
       "      <td>5</td>\n",
       "      <td>861</td>\n",
       "      <td>The medical care I received was excellent, and...</td>\n",
       "    </tr>\n",
       "    <tr>\n",
       "      <th>2</th>\n",
       "      <td>9</td>\n",
       "      <td>655</td>\n",
       "      <td>The hospital staff was friendly and helpful, b...</td>\n",
       "    </tr>\n",
       "    <tr>\n",
       "      <th>3</th>\n",
       "      <td>55</td>\n",
       "      <td>85</td>\n",
       "      <td>I had a challenging experience at the hospital...</td>\n",
       "    </tr>\n",
       "    <tr>\n",
       "      <th>4</th>\n",
       "      <td>63</td>\n",
       "      <td>929</td>\n",
       "      <td>The hospital provided excellent care, but the ...</td>\n",
       "    </tr>\n",
       "  </tbody>\n",
       "</table>\n",
       "</div>"
      ],
      "text/plain": [
       "   visit_id  review_id                                             review\n",
       "0         4        377  I am grateful for the attentive care I receive...\n",
       "1         5        861  The medical care I received was excellent, and...\n",
       "2         9        655  The hospital staff was friendly and helpful, b...\n",
       "3        55         85  I had a challenging experience at the hospital...\n",
       "4        63        929  The hospital provided excellent care, but the ..."
      ]
     },
     "execution_count": 48,
     "metadata": {},
     "output_type": "execute_result"
    }
   ],
   "source": [
    "# Step 1: Concatenate all reviews per visit_id\n",
    "review_texts = reviews.groupby('visit_id')['review'].apply(lambda x: ' | '.join(x))\n",
    "\n",
    "# Step 2: For each visit_id, get the first review_id (or you could use min, max, etc.)\n",
    "first_review_ids = reviews.groupby('visit_id')['review_id'].first()\n",
    "\n",
    "# Step 3: Combine both into a single DataFrame\n",
    "reviews_grouped = pd.DataFrame({\n",
    "    'review_id': first_review_ids,\n",
    "    'review': review_texts\n",
    "}).reset_index()\n",
    "\n",
    "print(reviews_grouped.shape)\n",
    "reviews_grouped.head()"
   ]
  },
  {
   "cell_type": "code",
   "execution_count": 49,
   "metadata": {},
   "outputs": [
    {
     "name": "stdout",
     "output_type": "stream",
     "text": [
      "Column 'visit_id' has 0 duplicated values\n",
      "Column 'review_id' has 0 duplicated values\n",
      "Column 'review' has 292 duplicated values\n"
     ]
    }
   ],
   "source": [
    "check_duplicated(reviews_grouped)"
   ]
  },
  {
   "cell_type": "code",
   "execution_count": 54,
   "metadata": {},
   "outputs": [
    {
     "name": "stdout",
     "output_type": "stream",
     "text": [
      "(9998, 30)\n"
     ]
    }
   ],
   "source": [
    "data = visits.merge(patients, on='patient_id', how='left') \\\n",
    "    .merge(physicians, on='physician_id', how='left') \\\n",
    "    .merge(hospitals, on='hospital_id', how='left') \\\n",
    "    .merge(payers, on='payer_id', how='left') \\\n",
    "    .merge(payers, on='payer_id', how='left') \\\n",
    "    .merge(reviews_grouped, on='visit_id', how='left')\n",
    "print(data.shape)\n",
    "# print(\"patient_name\" in data.columns.tolist())"
   ]
  },
  {
   "cell_type": "code",
   "execution_count": 55,
   "metadata": {},
   "outputs": [
    {
     "data": {
      "text/plain": [
       "9998"
      ]
     },
     "execution_count": 55,
     "metadata": {},
     "output_type": "execute_result"
    }
   ],
   "source": [
    "def row_to_doc(row):\n",
    "    return f\"\"\"\n",
    "    Visit ID: {row.get('visit_id', 'Unknown')}\n",
    "    Patient: {row.get('patient_name', 'Unknown')}, Sex: {row.get('patient_sex', 'Unknown')}, DOB: {row.get('patient_dob', 'Unknown')}, Blood Type: {row.get('patient_blood_type', 'Unknown')}\n",
    "    Physician: {row.get('physician_name', 'Unknown')} (Graduated: {row.get('physician_grad_year', 'Unknown')} from {row.get('medical_school', 'Unknown')})\n",
    "    Hospital: {row.get('hospital_name', 'Unknown')}, State: {row.get('hospital_state', 'Unknown')}\n",
    "    Complaint: {row.get('chief_complaint', 'Unknown')}\n",
    "    Diagnosis: {row.get('primary_diagnosis', 'Unknown')}\n",
    "    Treatment: {row.get('treatment_description', 'Unknown')}\n",
    "    Test Results: {row.get('test_results', 'Unknown')}\n",
    "    Admission Date: {row.get('date_of_admission', 'Unknown')} -> Discharge: {row.get('discharge_date', 'Unknown')}\n",
    "    Billing: ${row.get('billing_amount', 'Unknown')}, Room: {row.get('room_number', 'Unknown')}, Payer: {row.get('payer_name', 'Unknown')}\n",
    "    Review: {row.get('review', 'No review provided')}\n",
    "    \"\"\"\n",
    "\n",
    "documents = data.apply(row_to_doc, axis=1).tolist()\n",
    "len(documents)"
   ]
  },
  {
   "cell_type": "code",
   "execution_count": 56,
   "metadata": {},
   "outputs": [
    {
     "name": "stdout",
     "output_type": "stream",
     "text": [
      "\n",
      "    Visit ID: 83\n",
      "    Patient: Kimberly Vargas, Sex: Female, DOB: 1948-10-26, Blood Type: AB-\n",
      "    Physician: Nathan Smith (Graduated: 1993-08-12 from Johns Hopkins University School of Medicine)\n",
      "    Hospital: Boyd PLC, State: GA\n",
      "    Complaint: Memory decline and perplexity\n",
      "    Diagnosis: F01.9 - Vascular dementia, unspecified\n",
      "    Treatment: Cognitive assessments, medication management, and lifestyle changes. Identify and address the underlying cause of cognitive decline.\n",
      "    Test Results: Abnormal\n",
      "    Admission Date: 2018-12-28 -> Discharge: 2019-01-27\n",
      "    Billing: $5319.542762776323, Room: 139, Payer: Unknown\n",
      "    Review: nan\n",
      "    \n"
     ]
    }
   ],
   "source": [
    "print(documents[100])"
   ]
  },
  {
   "cell_type": "code",
   "execution_count": 60,
   "metadata": {},
   "outputs": [
    {
     "name": "stdout",
     "output_type": "stream",
     "text": [
      "\n",
      "    Visit ID: 4\n",
      "    Patient: Mrs. Brandy Flowers, Sex: Male, DOB: 1989-01-26, Blood Type: AB+\n",
      "    Physician: Mark Vang (Graduated: 1987-08-11 from University of California, San Francisco School of Medicine)\n",
      "    Hospital: Vaughn PLC, State: CO\n",
      "    Complaint: Persistent cough and shortness of breath\n",
      "    Diagnosis: J45.909 - Unspecified asthma, uncomplicated\n",
      "    Treatment: Prescribed a combination of inhaled bronchodilators (such as albuterol) and corticosteroids to manage airway inflammation. Conducted pulmonary function tests to assess lung function. Administered antibiotics if a bacterial infection was suspected. Advised lifestyle modifications, including smoking cessation and environmental control.\n",
      "    Test Results: Normal\n",
      "    Admission Date: 2021-07-09 -> Discharge: 2021-08-02\n",
      "    Billing: $18086.34418356388, Room: 477, Payer: Unknown\n",
      "    Review: I am grateful for the attentive care I received during my stay. The hospital environment was calm and conducive to healing.\n",
      "    \n"
     ]
    }
   ],
   "source": [
    "print(documents[4])"
   ]
  },
  {
   "cell_type": "code",
   "execution_count": null,
   "metadata": {},
   "outputs": [],
   "source": []
  }
 ],
 "metadata": {
  "kernelspec": {
   "display_name": ".venv",
   "language": "python",
   "name": "python3"
  },
  "language_info": {
   "codemirror_mode": {
    "name": "ipython",
    "version": 3
   },
   "file_extension": ".py",
   "mimetype": "text/x-python",
   "name": "python",
   "nbconvert_exporter": "python",
   "pygments_lexer": "ipython3",
   "version": "3.13.3"
  }
 },
 "nbformat": 4,
 "nbformat_minor": 2
}
