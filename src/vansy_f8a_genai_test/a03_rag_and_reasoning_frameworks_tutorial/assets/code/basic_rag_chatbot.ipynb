{
 "cells": [
  {
   "cell_type": "code",
   "execution_count": 1,
   "metadata": {},
   "outputs": [
    {
     "data": {
      "text/plain": [
       "True"
      ]
     },
     "execution_count": 1,
     "metadata": {},
     "output_type": "execute_result"
    }
   ],
   "source": [
    "from dotenv import load_dotenv\n",
    "import os\n",
    "\n",
    "load_dotenv()"
   ]
  },
  {
   "cell_type": "code",
   "execution_count": 25,
   "metadata": {},
   "outputs": [],
   "source": [
    "from langchain_openai import ChatOpenAI, OpenAIEmbeddings\n",
    "from langchain_pinecone import PineconeVectorStore\n",
    "from langchain.chains import ConversationalRetrievalChain\n",
    "from langchain.memory import ConversationBufferMemory\n",
    "from langchain.prompts import PromptTemplate"
   ]
  },
  {
   "cell_type": "code",
   "execution_count": 40,
   "metadata": {},
   "outputs": [],
   "source": [
    "# Set up API keys\n",
    "OPENAI_API_KEY = os.getenv(key=\"OPENAI_API_KEY\")\n",
    "PINECONE_API_KEY = os.getenv(key=\"PINECONE_API_KEY\")"
   ]
  },
  {
   "cell_type": "code",
   "execution_count": 41,
   "metadata": {},
   "outputs": [],
   "source": [
    "# Load the Pinecone vector store\n",
    "index_name = \"hospital-rag\"\n",
    "\n",
    "vector_store = PineconeVectorStore.from_existing_index(\n",
    "    index_name=index_name,\n",
    "    embedding=OpenAIEmbeddings(model=\"text-embedding-3-small\")\n",
    ")"
   ]
  },
  {
   "cell_type": "code",
   "execution_count": 42,
   "metadata": {},
   "outputs": [],
   "source": [
    "# Set up LLM, using GPT-4o-mini with temp 0.0\n",
    "llm = ChatOpenAI(model=\"gpt-4o-mini\", temperature=0.0)"
   ]
  },
  {
   "cell_type": "code",
   "execution_count": 31,
   "metadata": {},
   "outputs": [],
   "source": [
    "_template = \"\"\"\n",
    "You are a helpful AI assistant for answering questions based on the provided documents.\n",
    "Your goal is to provide accurate and concise answers.\n",
    "Use the following pieces of context to answer the question at the end.\n",
    "If you don't know the answer, just say that you don't know. DO NOT try to make up an answer.\n",
    "Keep the answer concise.\n",
    "And you need to use same language with user's questions.\n",
    "\n",
    "CONTEXT:\n",
    "{context}\n",
    "\n",
    "CHAT HISTORY:\n",
    "{chat_history}\n",
    "\n",
    "QUESTION:\n",
    "{question}\n",
    "\n",
    "Answer in the same language as the question.\n",
    "Helpful Answer:\"\"\""
   ]
  },
  {
   "cell_type": "code",
   "execution_count": 32,
   "metadata": {},
   "outputs": [],
   "source": [
    "QA_PROMPT = PromptTemplate(\n",
    "    template=_template,\n",
    "    input_variables=[\"context\", \"chat_history\", \"question\"]\n",
    ")"
   ]
  },
  {
   "cell_type": "code",
   "execution_count": 43,
   "metadata": {},
   "outputs": [],
   "source": [
    "# Set up conversation memory\n",
    "memory = ConversationBufferMemory(\n",
    "    memory_key=\"chat_history\",\n",
    "    return_messages=True,\n",
    "    output_key=\"answer\"\n",
    ")"
   ]
  },
  {
   "cell_type": "code",
   "execution_count": 44,
   "metadata": {},
   "outputs": [],
   "source": [
    "# Set up Conversational Retrieval Chain\n",
    "qa_chain = ConversationalRetrievalChain.from_llm(\n",
    "    llm=llm,\n",
    "    retriever=vector_store.as_retriever(k=4),\n",
    "    memory=memory,\n",
    "    return_source_documents=True, # Set to True to see which documents were retrieved\n",
    "    combine_docs_chain_kwargs={\"prompt\": QA_PROMPT},\n",
    "    verbose=False # Set to True to see the inner workings of the chain\n",
    ")"
   ]
  },
  {
   "cell_type": "code",
   "execution_count": 46,
   "metadata": {},
   "outputs": [
    {
     "name": "stdout",
     "output_type": "stream",
     "text": [
      "User: My name is Van Sy, what treatments did Mrs. Brandy Flowers receive during her hospital stay?\n",
      "Chatbot: Mrs. Brandy Flowers received a combination of inhaled bronchodilators (such as albuterol) and corticosteroids to manage airway inflammation. Pulmonary function tests were conducted to assess lung function, and antibiotics were administered if a bacterial infection was suspected. She was also advised on lifestyle modifications, including smoking cessation and environmental control.\n",
      "\n",
      "--- Source Documents ---\n",
      "- Page N/A: \n",
      "    Visit ID: 4\n",
      "    Patient: Mrs. Brandy Flowers, Sex: Male, DOB: 1989-01-26, Blood Type: AB+\n",
      "    Physician: Mark Vang (Graduated: 1987-08-11 from University of California, San Francisco School of Medicine)\n",
      "    Hospital: Vaughn PLC, State: CO\n",
      "    Complaint: Persistent cough and shortness of breath\n",
      "    Diagnosis: J45.909 - Unspecified asthma, uncomplicated\n",
      "    Treatment: Prescribed a combination of inhaled bronchodilators (such as albuterol) and corticosteroids to manage airway inflammation. Conducted pulmonary function tests to assess lung function. Administered antibiotics if a bacterial infection was suspected. Advised lifestyle modifications, including smoking cessation and environmental control.\n",
      "    Test Results: Normal\n",
      "    Admission Date: 2021-07-09 -> Discharge: 2021-08-02\n",
      "    Billing: $18086.34418356388, Room: 477, Payer: Unknown\n",
      "    Review: I am grateful for the attentive care I received during my stay. The hospital environment was calm and conducive to healing.\n",
      "    ...\n",
      "- Page N/A: \n",
      "    Visit ID: 2241\n",
      "    Patient: Brandy Clark, Sex: Female, DOB: 1982-12-16, Blood Type: AB+\n",
      "    Physician: Yvonne Jacobs (Graduated: 1999-02-26 from University of Chicago Pritzker School of Medicine)\n",
      "    Hospital: Lewis-Nelson, State: FL\n",
      "    Complaint: Changes in bowel habits\n",
      "    Diagnosis: K58 - Irritable bowel syndrome\n",
      "    Treatment: Gastrointestinal evaluation for potential issues such as irritable bowel syndrome or inflammatory bowel disease.\n",
      "    Test Results: Normal\n",
      "    Admission Date: 2020-04-10 -> Discharge: 2020-04-14\n",
      "    Billing: $17634.373636304907, Room: 325, Payer: Unknown\n",
      "    Review: nan\n",
      "    ...\n",
      "- Page N/A: \n",
      "    Visit ID: 1822\n",
      "    Patient: Brandy Bridges, Sex: Female, DOB: 1961-02-09, Blood Type: O+\n",
      "    Physician: Heidi Melton (Graduated: 1990-05-25 from University of Chicago Pritzker School of Medicine)\n",
      "    Hospital: Lewis-Nelson, State: FL\n",
      "    Complaint: Feeling of impending doom\n",
      "    Diagnosis: F43.10 - Post-traumatic stress disorder, unspecified\n",
      "    Treatment: Psychological evaluation, counseling, and possible medication\n",
      "    Test Results: Abnormal\n",
      "    Admission Date: 2023-10-16 -> Discharge: nan\n",
      "    Billing: $39747.99908426908, Room: 156, Payer: Unknown\n",
      "    Review: nan\n",
      "    ...\n",
      "- Page N/A: \n",
      "    Visit ID: 1505\n",
      "    Patient: Brandy Cross, Sex: Male, DOB: 1961-03-01, Blood Type: AB-\n",
      "    Physician: Charles Kim (Graduated: 2014-12-11 from University of Michigan Medical School)\n",
      "    Hospital: Burke, Griffin and Cooper, State: NC\n",
      "    Complaint: nan\n",
      "    Diagnosis: nan\n",
      "    Treatment: nan\n",
      "    Test Results: Abnormal\n",
      "    Admission Date: 2019-05-28 -> Discharge: 2019-06-21\n",
      "    Billing: $46026.91105722429, Room: 422, Payer: Unknown\n",
      "    Review: My stay at the hospital was a pleasant surprise. The doctors were knowledgeable, and the support staff was friendly. The food, however, left much to be desired.\n",
      "    ...\n",
      "------------------------\n",
      "\n",
      "User: How many countries in the world?\n",
      "Chatbot: I don't know.\n",
      "\n",
      "--- Source Documents ---\n",
      "- Page N/A: \n",
      "    Visit ID: 2440\n",
      "    Patient: Courtney Fields, Sex: Male, DOB: 2001-09-25, Blood Type: AB-\n",
      "    Physician: Brent Brewer (Graduated: 2015-08-04 from Washington University in St. Louis School of Medicine)\n",
      "    Hospital: Lewis-Nelson, State: FL\n",
      "    Complaint: Pain or discomfort in the pelvis\n",
      "    Diagnosis: N94.9 - Unspecified condition associated with female genital organs and menstrual cycle\n",
      "    Treatment: Gynecological or urological examination for potential pelvic issues and treatment options.\n",
      "    Test Results: Inconclusive\n",
      "    Admission Date: 2023-08-09 -> Discharge: 2023-09-07\n",
      "    Billing: $42673.708187137694, Room: 435, Payer: Unknown\n",
      "    Review: nan\n",
      "    ...\n",
      "- Page N/A: \n",
      "    Visit ID: 919\n",
      "    Patient: Theresa May, Sex: Male, DOB: 1987-10-12, Blood Type: O+\n",
      "    Physician: Victoria Chavez (Graduated: 2007-08-20 from David Geffen School of Medicine at UCLA)\n",
      "    Hospital: Burch-White, State: NC\n",
      "    Complaint: Persistent feelings of loneliness and isolation\n",
      "    Diagnosis: F43.9 - Reaction to severe stress, unspecified\n",
      "    Treatment: Counseling, social support interventions, and potentially medications for underlying mood disorders. Evaluation for underlying mental health conditions is essential.\n",
      "    Test Results: Abnormal\n",
      "    Admission Date: 2021-03-25 -> Discharge: 2021-04-18\n",
      "    Billing: $21498.0280853457, Room: 193, Payer: Unknown\n",
      "    Review: nan\n",
      "    ...\n",
      "- Page N/A: \n",
      "    Visit ID: 2441\n",
      "    Patient: Nicole Mcdonald, Sex: Female, DOB: 1982-06-13, Blood Type: A-\n",
      "    Physician: Kimberly Oliver (Graduated: 2019-06-02 from Stanford University School of Medicine)\n",
      "    Hospital: Burch-White, State: NC\n",
      "    Complaint: Blood in stool\n",
      "    Diagnosis: K92.2 - Gastrointestinal hemorrhage, unspecified\n",
      "    Treatment: Gastrointestinal evaluation for potential causes, including colonoscopy, and initiation of appropriate treatment.\n",
      "    Test Results: Inconclusive\n",
      "    Admission Date: 2023-03-13 -> Discharge: 2023-04-08\n",
      "    Billing: $10830.14210525292, Room: 275, Payer: Unknown\n",
      "    Review: I had a positive experience overall at the hospital. The medical staff was caring and attentive, and the facilities were modern and well-equipped.\n",
      "    ...\n",
      "- Page N/A: \n",
      "    Visit ID: 9255\n",
      "    Patient: Christopher Smith, Sex: Female, DOB: 1947-12-21, Blood Type: A-\n",
      "    Physician: Edgar Harris (Graduated: 2010-06-03 from University of Chicago Pritzker School of Medicine)\n",
      "    Hospital: Pugh-Rogers, State: GA\n",
      "    Complaint: Frequent infections\n",
      "    Diagnosis: B20 - Human immunodeficiency virus [HIV] disease\n",
      "    Treatment: Antibiotics, antivirals, and addressing underlying causes such as immunodeficiency or chronic illnesses.\n",
      "    Test Results: Inconclusive\n",
      "    Admission Date: 2022-04-27 -> Discharge: 2022-05-16\n",
      "    Billing: $8335.993583094772, Room: 286, Payer: Unknown\n",
      "    Review: nan\n",
      "    ...\n",
      "------------------------\n",
      "\n",
      "User: quit\n",
      "Chatbot: Goodbye!\n"
     ]
    }
   ],
   "source": [
    "# Chat loop inside Jupyter cell\n",
    "while True:\n",
    "    user_query = input(\"\\nYou: \")\n",
    "    if user_query.lower() in [\"exit\", \"quit\"]:\n",
    "        print(f\"User: {user_query}\")\n",
    "        print(\"Chatbot: Goodbye!\")\n",
    "        break\n",
    "\n",
    "    result = qa_chain({\"question\": user_query})\n",
    "\n",
    "    print(f\"User: {user_query}\")\n",
    "    print(f\"Chatbot: {result['answer']}\")\n",
    "\n",
    "    # Optionally, print the source documents that were used\n",
    "    print(\"\\n--- Source Documents ---\")\n",
    "    for doc in result['source_documents']:\n",
    "        print(f\"- Page {doc.metadata.get('page_number', 'N/A')}: {doc.page_content}...\")\n",
    "    print(\"------------------------\\n\")"
   ]
  },
  {
   "cell_type": "code",
   "execution_count": null,
   "metadata": {},
   "outputs": [],
   "source": []
  }
 ],
 "metadata": {
  "kernelspec": {
   "display_name": ".venv",
   "language": "python",
   "name": "python3"
  },
  "language_info": {
   "codemirror_mode": {
    "name": "ipython",
    "version": 3
   },
   "file_extension": ".py",
   "mimetype": "text/x-python",
   "name": "python",
   "nbconvert_exporter": "python",
   "pygments_lexer": "ipython3",
   "version": "3.13.3"
  }
 },
 "nbformat": 4,
 "nbformat_minor": 2
}
